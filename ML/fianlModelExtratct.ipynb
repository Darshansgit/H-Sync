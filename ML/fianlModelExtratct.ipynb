{
  "cells": [
    {
      "cell_type": "code",
      "execution_count": 7,
      "id": "0b297982",
      "metadata": {
        "id": "0b297982"
      },
      "outputs": [],
      "source": [
        "import pandas as pd\n",
        "import numpy as np \n",
        "from sklearn.model_selection import train_test_split\n",
        "from sklearn.linear_model import LogisticRegression \n",
        "from sklearn.metrics import accuracy_score"
      ]
    },
    {
      "cell_type": "code",
      "execution_count": 8,
      "id": "78df9faa",
      "metadata": {
        "id": "78df9faa"
      },
      "outputs": [],
      "source": [
        "df = pd.read_csv('/content/drive/MyDrive/Colab Notebooks/draft.csv')"
      ]
    },
    {
      "cell_type": "code",
      "execution_count": 9,
      "id": "240592ed",
      "metadata": {
        "id": "240592ed"
      },
      "outputs": [],
      "source": [
        "X =  df.drop(columns=\"diagnosis\",axis=1)\n",
        "Y =  df[\"diagnosis\"]"
      ]
    },
    {
      "cell_type": "code",
      "execution_count": 10,
      "id": "b362ecba",
      "metadata": {
        "id": "b362ecba",
        "outputId": "6bd7738a-e80a-4344-f96e-5a41805b093f",
        "colab": {
          "base_uri": "https://localhost:8080/"
        }
      },
      "outputs": [
        {
          "output_type": "stream",
          "name": "stdout",
          "text": [
            "       heart rate  ap_hi  ap_lo\n",
            "0              62    110     80\n",
            "1              85    140     90\n",
            "2              64    130     70\n",
            "3              82    150    100\n",
            "4              56    100     60\n",
            "...           ...    ...    ...\n",
            "66138          80    150     80\n",
            "66139          76    120     80\n",
            "66140         105    180     90\n",
            "66141          72    135     80\n",
            "66142          72    120     80\n",
            "\n",
            "[66143 rows x 3 columns]\n"
          ]
        }
      ],
      "source": [
        "print(X)"
      ]
    },
    {
      "cell_type": "code",
      "execution_count": 11,
      "id": "3186ec3a",
      "metadata": {
        "id": "3186ec3a",
        "outputId": "5a66c85a-dde1-4c62-f558-85f44f510383",
        "colab": {
          "base_uri": "https://localhost:8080/"
        }
      },
      "outputs": [
        {
          "output_type": "stream",
          "name": "stdout",
          "text": [
            "0        2\n",
            "1        3\n",
            "2        2\n",
            "3        3\n",
            "4        1\n",
            "        ..\n",
            "66138    2\n",
            "66139    2\n",
            "66140    3\n",
            "66141    2\n",
            "66142    2\n",
            "Name: diagnosis, Length: 66143, dtype: int64\n"
          ]
        }
      ],
      "source": [
        "print(Y)"
      ]
    },
    {
      "cell_type": "code",
      "execution_count": 12,
      "id": "e0dfc372",
      "metadata": {
        "id": "e0dfc372"
      },
      "outputs": [],
      "source": [
        "X_train, X_test, Y_train, Y_test = train_test_split(X,Y,test_size=0.2, stratify=Y, random_state=2 )"
      ]
    },
    {
      "cell_type": "code",
      "execution_count": 13,
      "id": "b15e69bb",
      "metadata": {
        "id": "b15e69bb",
        "outputId": "e95a1a02-3475-4514-e916-9c88fe40cacc",
        "colab": {
          "base_uri": "https://localhost:8080/"
        }
      },
      "outputs": [
        {
          "output_type": "stream",
          "name": "stdout",
          "text": [
            "(66143, 3) (52914, 3) (13229, 3)\n"
          ]
        }
      ],
      "source": [
        "print(X.shape, X_train.shape, X_test.shape)"
      ]
    },
    {
      "cell_type": "code",
      "execution_count": 14,
      "id": "e2129067",
      "metadata": {
        "id": "e2129067"
      },
      "outputs": [],
      "source": [
        "model = LogisticRegression(max_iter=1500)"
      ]
    },
    {
      "cell_type": "code",
      "execution_count": 15,
      "id": "c867bb02",
      "metadata": {
        "id": "c867bb02",
        "outputId": "7e73196f-475a-4795-d718-6fb1d3d1cc8f",
        "colab": {
          "base_uri": "https://localhost:8080/",
          "height": 75
        }
      },
      "outputs": [
        {
          "output_type": "execute_result",
          "data": {
            "text/plain": [
              "LogisticRegression(max_iter=1500)"
            ],
            "text/html": [
              "<style>#sk-container-id-1 {color: black;background-color: white;}#sk-container-id-1 pre{padding: 0;}#sk-container-id-1 div.sk-toggleable {background-color: white;}#sk-container-id-1 label.sk-toggleable__label {cursor: pointer;display: block;width: 100%;margin-bottom: 0;padding: 0.3em;box-sizing: border-box;text-align: center;}#sk-container-id-1 label.sk-toggleable__label-arrow:before {content: \"▸\";float: left;margin-right: 0.25em;color: #696969;}#sk-container-id-1 label.sk-toggleable__label-arrow:hover:before {color: black;}#sk-container-id-1 div.sk-estimator:hover label.sk-toggleable__label-arrow:before {color: black;}#sk-container-id-1 div.sk-toggleable__content {max-height: 0;max-width: 0;overflow: hidden;text-align: left;background-color: #f0f8ff;}#sk-container-id-1 div.sk-toggleable__content pre {margin: 0.2em;color: black;border-radius: 0.25em;background-color: #f0f8ff;}#sk-container-id-1 input.sk-toggleable__control:checked~div.sk-toggleable__content {max-height: 200px;max-width: 100%;overflow: auto;}#sk-container-id-1 input.sk-toggleable__control:checked~label.sk-toggleable__label-arrow:before {content: \"▾\";}#sk-container-id-1 div.sk-estimator input.sk-toggleable__control:checked~label.sk-toggleable__label {background-color: #d4ebff;}#sk-container-id-1 div.sk-label input.sk-toggleable__control:checked~label.sk-toggleable__label {background-color: #d4ebff;}#sk-container-id-1 input.sk-hidden--visually {border: 0;clip: rect(1px 1px 1px 1px);clip: rect(1px, 1px, 1px, 1px);height: 1px;margin: -1px;overflow: hidden;padding: 0;position: absolute;width: 1px;}#sk-container-id-1 div.sk-estimator {font-family: monospace;background-color: #f0f8ff;border: 1px dotted black;border-radius: 0.25em;box-sizing: border-box;margin-bottom: 0.5em;}#sk-container-id-1 div.sk-estimator:hover {background-color: #d4ebff;}#sk-container-id-1 div.sk-parallel-item::after {content: \"\";width: 100%;border-bottom: 1px solid gray;flex-grow: 1;}#sk-container-id-1 div.sk-label:hover label.sk-toggleable__label {background-color: #d4ebff;}#sk-container-id-1 div.sk-serial::before {content: \"\";position: absolute;border-left: 1px solid gray;box-sizing: border-box;top: 0;bottom: 0;left: 50%;z-index: 0;}#sk-container-id-1 div.sk-serial {display: flex;flex-direction: column;align-items: center;background-color: white;padding-right: 0.2em;padding-left: 0.2em;position: relative;}#sk-container-id-1 div.sk-item {position: relative;z-index: 1;}#sk-container-id-1 div.sk-parallel {display: flex;align-items: stretch;justify-content: center;background-color: white;position: relative;}#sk-container-id-1 div.sk-item::before, #sk-container-id-1 div.sk-parallel-item::before {content: \"\";position: absolute;border-left: 1px solid gray;box-sizing: border-box;top: 0;bottom: 0;left: 50%;z-index: -1;}#sk-container-id-1 div.sk-parallel-item {display: flex;flex-direction: column;z-index: 1;position: relative;background-color: white;}#sk-container-id-1 div.sk-parallel-item:first-child::after {align-self: flex-end;width: 50%;}#sk-container-id-1 div.sk-parallel-item:last-child::after {align-self: flex-start;width: 50%;}#sk-container-id-1 div.sk-parallel-item:only-child::after {width: 0;}#sk-container-id-1 div.sk-dashed-wrapped {border: 1px dashed gray;margin: 0 0.4em 0.5em 0.4em;box-sizing: border-box;padding-bottom: 0.4em;background-color: white;}#sk-container-id-1 div.sk-label label {font-family: monospace;font-weight: bold;display: inline-block;line-height: 1.2em;}#sk-container-id-1 div.sk-label-container {text-align: center;}#sk-container-id-1 div.sk-container {/* jupyter's `normalize.less` sets `[hidden] { display: none; }` but bootstrap.min.css set `[hidden] { display: none !important; }` so we also need the `!important` here to be able to override the default hidden behavior on the sphinx rendered scikit-learn.org. See: https://github.com/scikit-learn/scikit-learn/issues/21755 */display: inline-block !important;position: relative;}#sk-container-id-1 div.sk-text-repr-fallback {display: none;}</style><div id=\"sk-container-id-1\" class=\"sk-top-container\"><div class=\"sk-text-repr-fallback\"><pre>LogisticRegression(max_iter=1500)</pre><b>In a Jupyter environment, please rerun this cell to show the HTML representation or trust the notebook. <br />On GitHub, the HTML representation is unable to render, please try loading this page with nbviewer.org.</b></div><div class=\"sk-container\" hidden><div class=\"sk-item\"><div class=\"sk-estimator sk-toggleable\"><input class=\"sk-toggleable__control sk-hidden--visually\" id=\"sk-estimator-id-1\" type=\"checkbox\" checked><label for=\"sk-estimator-id-1\" class=\"sk-toggleable__label sk-toggleable__label-arrow\">LogisticRegression</label><div class=\"sk-toggleable__content\"><pre>LogisticRegression(max_iter=1500)</pre></div></div></div></div></div>"
            ]
          },
          "metadata": {},
          "execution_count": 15
        }
      ],
      "source": [
        "model.fit(X_train, Y_train)"
      ]
    },
    {
      "cell_type": "code",
      "execution_count": 16,
      "id": "9d11028b",
      "metadata": {
        "id": "9d11028b"
      },
      "outputs": [],
      "source": [
        "y_train_prediction = model.predict(X_train)\n",
        "training_data_accuracy = accuracy_score(Y_train,y_train_prediction )"
      ]
    },
    {
      "cell_type": "code",
      "execution_count": 17,
      "id": "ba695a43",
      "metadata": {
        "id": "ba695a43",
        "outputId": "34bd1544-9c57-499e-eda4-0b09ac9cff7b",
        "colab": {
          "base_uri": "https://localhost:8080/"
        }
      },
      "outputs": [
        {
          "output_type": "stream",
          "name": "stdout",
          "text": [
            "accuracy on training data: 0.9822353252447368\n"
          ]
        }
      ],
      "source": [
        "print(\"accuracy on training data:\", training_data_accuracy)"
      ]
    },
    {
      "cell_type": "code",
      "execution_count": 18,
      "id": "bb78bc10",
      "metadata": {
        "id": "bb78bc10"
      },
      "outputs": [],
      "source": [
        "X_test_prediction = model.predict(X_test)\n",
        "test_data_accuracy = accuracy_score(X_test_prediction,Y_test )"
      ]
    },
    {
      "cell_type": "code",
      "execution_count": 19,
      "id": "473cdf2e",
      "metadata": {
        "id": "473cdf2e",
        "outputId": "d0db9bd9-a584-4cc3-c88d-1fb9bd44ef18",
        "colab": {
          "base_uri": "https://localhost:8080/"
        }
      },
      "outputs": [
        {
          "output_type": "stream",
          "name": "stdout",
          "text": [
            "accuracy on test data: 0.9820092221634288\n"
          ]
        }
      ],
      "source": [
        "print(\"accuracy on test data:\", test_data_accuracy)"
      ]
    },
    {
      "cell_type": "code",
      "execution_count": 20,
      "id": "91b98601",
      "metadata": {
        "id": "91b98601",
        "outputId": "32e3c191-6a3b-4803-a5e1-102c82c02f91",
        "colab": {
          "base_uri": "https://localhost:8080/"
        }
      },
      "outputs": [
        {
          "output_type": "stream",
          "name": "stdout",
          "text": [
            "[3]\n"
          ]
        },
        {
          "output_type": "stream",
          "name": "stderr",
          "text": [
            "/usr/local/lib/python3.10/dist-packages/sklearn/base.py:439: UserWarning: X does not have valid feature names, but LogisticRegression was fitted with feature names\n",
            "  warnings.warn(\n"
          ]
        }
      ],
      "source": [
        "input_data=(82,150,100)\n",
        "input_data_as_numpy_array= np.asarray(input_data)\n",
        "import_data_reshaped = input_data_as_numpy_array.reshape(1,3) \n",
        "prediction= model.predict(import_data_reshaped)\n",
        "print(prediction)"
      ]
    },
    {
      "cell_type": "code",
      "execution_count": 21,
      "id": "a6eb1fb8",
      "metadata": {
        "id": "a6eb1fb8",
        "outputId": "e714f4b8-1e4a-40f4-8013-b671d94ac391",
        "colab": {
          "base_uri": "https://localhost:8080/"
        }
      },
      "outputs": [
        {
          "output_type": "stream",
          "name": "stdout",
          "text": [
            "[3]\n"
          ]
        },
        {
          "output_type": "stream",
          "name": "stderr",
          "text": [
            "/usr/local/lib/python3.10/dist-packages/sklearn/base.py:439: UserWarning: X does not have valid feature names, but LogisticRegression was fitted with feature names\n",
            "  warnings.warn(\n"
          ]
        }
      ],
      "source": [
        "input_data=(82,150,86)\n",
        "input_data_as_numpy_array= np.asarray(input_data)\n",
        "import_data_reshaped = input_data_as_numpy_array.reshape(1,3) \n",
        "prediction= model.predict(import_data_reshaped)\n",
        "print(prediction)"
      ]
    },
    {
      "cell_type": "code",
      "source": [
        "import tensorflow as tf\n",
        "import numpy as np\n",
        "from sklearn.linear_model import LogisticRegression\n",
        "\n",
        "# # some random data to train and test on\n",
        "# x = np.random.normal(size=(60, 21))\n",
        "# y = np.random.uniform(size=(60,)) > 0.5\n",
        "\n",
        "# # fit the sklearn model on the data\n",
        "# sklearn_model = LogisticRegression().fit(x, y)\n",
        "sklearn_model = model\n",
        "\n",
        "# create a TF model with the same architecture\n",
        "tf_model = tf.keras.models.Sequential()\n",
        "tf_model.add(tf.keras.Input(shape=(3,)))\n",
        "tf_model.add(tf.keras.layers.Dense(3))\n",
        "\n",
        "# assign the parameters from sklearn to the TF model\n",
        "tf_model.layers[0].weights[0].assign(sklearn_model.coef_.transpose())\n",
        "tf_model.layers[0].bias.assign(sklearn_model.intercept_)\n",
        "\n",
        "# Verifying usign your model\n",
        "input_data=(80,120,87)\n",
        "input_data_as_numpy_array= np.asarray(input_data)\n",
        "import_data_reshaped = input_data_as_numpy_array.reshape(1,3) \n",
        "# prediction = model.predict(import_data_reshaped)\n",
        "# print(\"=====\", prediction, '====')\n",
        "\n",
        "# Verifying uding tf model\n",
        "output_tf = tf_model(import_data_reshaped)\n",
        "highest_prob_index = tf.argmax(output_tf, axis=1)\n",
        "highest_prob_index_list = highest_prob_index.numpy().tolist()\n",
        "print(highest_prob_index_list[0] + 1 )"
      ],
      "metadata": {
        "colab": {
          "base_uri": "https://localhost:8080/"
        },
        "id": "uVWpst5KxMkA",
        "outputId": "3035fbaf-9d5b-4c7b-f34c-4b12b55f844e"
      },
      "id": "uVWpst5KxMkA",
      "execution_count": 26,
      "outputs": [
        {
          "output_type": "stream",
          "name": "stdout",
          "text": [
            "2\n"
          ]
        }
      ]
    },
    {
      "cell_type": "code",
      "source": [
        "from google.colab import drive\n",
        "drive.mount('/content/drive')"
      ],
      "metadata": {
        "colab": {
          "base_uri": "https://localhost:8080/"
        },
        "id": "2VdtrDEqcVYe",
        "outputId": "7920aec8-d748-4998-a8ce-357da25f68bf"
      },
      "id": "2VdtrDEqcVYe",
      "execution_count": 23,
      "outputs": [
        {
          "output_type": "stream",
          "name": "stdout",
          "text": [
            "Drive already mounted at /content/drive; to attempt to forcibly remount, call drive.mount(\"/content/drive\", force_remount=True).\n"
          ]
        }
      ]
    },
    {
      "cell_type": "code",
      "source": [
        "# # Create a serving function for the model\n",
        "@tf.function(input_signature=[tf.TensorSpec(shape=[None, 3], dtype=tf.float32)])\n",
        "def serving_function(x):\n",
        "    return tf_model(x)\n",
        "\n",
        "# # Get the concrete function from the serving function\n",
        "concrete_func = serving_function.get_concrete_function()\n",
        "\n",
        "# # Convert the TensorFlow model to a TensorFlow Lite model\n",
        "converter = tf.lite.TFLiteConverter.from_concrete_functions([concrete_func])\n",
        "tflite_model = converter.convert()\n",
        "\n",
        "# # Save the model\n",
        "with open('model.tflite', 'wb') as f:\n",
        "    f.write(tflite_model)"
      ],
      "metadata": {
        "id": "h0vLbqKCxMl4",
        "outputId": "38633abc-bd01-4542-823c-e6eaafb7d680",
        "colab": {
          "base_uri": "https://localhost:8080/"
        }
      },
      "id": "h0vLbqKCxMl4",
      "execution_count": 27,
      "outputs": [
        {
          "output_type": "stream",
          "name": "stderr",
          "text": [
            "WARNING:absl:Please consider providing the trackable_obj argument in the from_concrete_functions. Providing without the trackable_obj argument is deprecated and it will use the deprecated conversion path.\n"
          ]
        }
      ]
    },
    {
      "cell_type": "code",
      "source": [
        "# testing the tflite model from to see if it works\n",
        "import numpy as np\n",
        "import tensorflow as tf\n",
        "\n",
        "interpreter = tf.lite.Interpreter(\"/content/model.tflite\")\n",
        "\n",
        "input_data=(80,150,87)\n",
        "input_data_as_numpy_array= np.asarray(input_data)\n",
        "import_data_reshaped = input_data_as_numpy_array.reshape(1,3)\n",
        "\n",
        "output_tf = tf_model(import_data_reshaped)\n",
        "\n",
        "highest_prob_index = tf.math.argmax(output_tf, axis=1)\n",
        "highest_prob_index_list = highest_prob_index.numpy().tolist()\n",
        "print(highest_prob_index_list[0] + 1 )"
      ],
      "metadata": {
        "id": "K-6S10OqxMoI",
        "colab": {
          "base_uri": "https://localhost:8080/"
        },
        "outputId": "489d512d-80d2-47d3-8083-3e1f42cef137"
      },
      "id": "K-6S10OqxMoI",
      "execution_count": 30,
      "outputs": [
        {
          "output_type": "stream",
          "name": "stdout",
          "text": [
            "3\n"
          ]
        }
      ]
    },
    {
      "cell_type": "code",
      "source": [],
      "metadata": {
        "id": "_BfoMXMAxMqS"
      },
      "id": "_BfoMXMAxMqS",
      "execution_count": 24,
      "outputs": []
    },
    {
      "cell_type": "code",
      "source": [],
      "metadata": {
        "id": "hZJ5uV0uxMsm"
      },
      "id": "hZJ5uV0uxMsm",
      "execution_count": 24,
      "outputs": []
    },
    {
      "cell_type": "code",
      "source": [],
      "metadata": {
        "id": "dIGQaMLDxMuw"
      },
      "id": "dIGQaMLDxMuw",
      "execution_count": 24,
      "outputs": []
    },
    {
      "cell_type": "code",
      "source": [],
      "metadata": {
        "id": "gwHKH8VixMxG"
      },
      "id": "gwHKH8VixMxG",
      "execution_count": 24,
      "outputs": []
    },
    {
      "cell_type": "code",
      "source": [],
      "metadata": {
        "id": "zZA8hF37xMzK"
      },
      "id": "zZA8hF37xMzK",
      "execution_count": 24,
      "outputs": []
    }
  ],
  "metadata": {
    "kernelspec": {
      "display_name": "Python 3 (ipykernel)",
      "language": "python",
      "name": "python3"
    },
    "language_info": {
      "codemirror_mode": {
        "name": "ipython",
        "version": 3
      },
      "file_extension": ".py",
      "mimetype": "text/x-python",
      "name": "python",
      "nbconvert_exporter": "python",
      "pygments_lexer": "ipython3",
      "version": "3.11.2"
    },
    "colab": {
      "provenance": []
    }
  },
  "nbformat": 4,
  "nbformat_minor": 5
}